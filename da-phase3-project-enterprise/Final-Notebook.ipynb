{
 "cells": [
  {
   "cell_type": "markdown",
   "metadata": {},
   "source": [
    "# Health Survey Data Analysis\n",
    "\n",
    "## Marie-Gisele Boyogueno"
   ]
  },
  {
   "cell_type": "markdown",
   "metadata": {},
   "source": [
    "## Executive Summary\n",
    "\n",
    "\n",
    "    \n",
    "In this project, we are trying to underdsand if there is a relationship between chronic health and the economical dimension of the population ability to own or rent a house.\n",
    "We will gather information of the health data from the 2020-2021 survey of the state of NYC; a subset data of the survey responses \n",
    "conducted by the CDC Behavioral Risk Factor Surveillance System(BRFSS). We will then visualise, and compare the data of the main variables\n",
    "of interest in this dataset, which are the health component: 'PHYSHLTH' and the economic component: 'RENTHOM1'. \n",
    "Finally, we will conduct some statistical tests that will help us interpret  and confirm our results.  "
   ]
  },
  {
   "cell_type": "markdown",
   "metadata": {},
   "source": [
    "## 1. Data preparation  for Statistical Analysis"
   ]
  },
  {
   "cell_type": "markdown",
   "metadata": {},
   "source": [
    "## The Data\n",
    "   \n",
    "The data source is from the CDC Behavioral Risk Factor Surveillance System(BRFSS) from 2020-2021,\n",
    "the Public Health Survey in the United States of America, the focus of this project is the state of New York. \n",
    "The data source has 279 colums and a little over 14000 surveys. In that dataset, two of the columns are our primary focus in this project: the phisical health(PHYSHLTH) and the  economical (RENTHOM1) columns."
   ]
  },
  {
   "cell_type": "code",
   "execution_count": 1,
   "metadata": {},
   "outputs": [],
   "source": [
    "import matplotlib.pyplot as plt\n",
    "import numpy as np\n",
    "import pandas as pd\n",
    "import scipy.stats as stats\n",
    "\n",
    "import seaborn as sns\n",
    "import warnings\n",
    "warnings.filterwarnings(\"ignore\")\n",
    "\n",
    "file_path = \"https://raw.githubusercontent.com/learn-co-curriculum/da-phase3-project-enterprise/main/brfss_ny.csv\"\n",
    "df = pd.read_csv(file_path)"
   ]
  },
  {
   "cell_type": "code",
   "execution_count": 2,
   "metadata": {},
   "outputs": [
    {
     "data": {
      "text/html": [
       "<div>\n",
       "<style scoped>\n",
       "    .dataframe tbody tr th:only-of-type {\n",
       "        vertical-align: middle;\n",
       "    }\n",
       "\n",
       "    .dataframe tbody tr th {\n",
       "        vertical-align: top;\n",
       "    }\n",
       "\n",
       "    .dataframe thead th {\n",
       "        text-align: right;\n",
       "    }\n",
       "</style>\n",
       "<table border=\"1\" class=\"dataframe\">\n",
       "  <thead>\n",
       "    <tr style=\"text-align: right;\">\n",
       "      <th></th>\n",
       "      <th>_STATE</th>\n",
       "      <th>FMONTH</th>\n",
       "      <th>IDATE</th>\n",
       "      <th>IMONTH</th>\n",
       "      <th>IDAY</th>\n",
       "      <th>IYEAR</th>\n",
       "      <th>DISPCODE</th>\n",
       "      <th>SEQNO</th>\n",
       "      <th>_PSU</th>\n",
       "      <th>CTELENM1</th>\n",
       "      <th>...</th>\n",
       "      <th>_RFPSA23</th>\n",
       "      <th>_CLNSCPY</th>\n",
       "      <th>_SGMSCPY</th>\n",
       "      <th>_SGMS10Y</th>\n",
       "      <th>_RFBLDS4</th>\n",
       "      <th>_STOLDNA</th>\n",
       "      <th>_VIRCOLN</th>\n",
       "      <th>_SBONTIM</th>\n",
       "      <th>_CRCREC1</th>\n",
       "      <th>_AIDTST4</th>\n",
       "    </tr>\n",
       "  </thead>\n",
       "  <tbody>\n",
       "    <tr>\n",
       "      <th>0</th>\n",
       "      <td>36</td>\n",
       "      <td>11</td>\n",
       "      <td>11172020</td>\n",
       "      <td>11</td>\n",
       "      <td>17</td>\n",
       "      <td>2020</td>\n",
       "      <td>1200</td>\n",
       "      <td>2020000001</td>\n",
       "      <td>2020000001</td>\n",
       "      <td>NaN</td>\n",
       "      <td>...</td>\n",
       "      <td>NaN</td>\n",
       "      <td>NaN</td>\n",
       "      <td>NaN</td>\n",
       "      <td>NaN</td>\n",
       "      <td>NaN</td>\n",
       "      <td>NaN</td>\n",
       "      <td>NaN</td>\n",
       "      <td>NaN</td>\n",
       "      <td>NaN</td>\n",
       "      <td>1.0</td>\n",
       "    </tr>\n",
       "    <tr>\n",
       "      <th>1</th>\n",
       "      <td>36</td>\n",
       "      <td>1</td>\n",
       "      <td>1182020</td>\n",
       "      <td>1</td>\n",
       "      <td>18</td>\n",
       "      <td>2020</td>\n",
       "      <td>1200</td>\n",
       "      <td>2020000002</td>\n",
       "      <td>2020000002</td>\n",
       "      <td>NaN</td>\n",
       "      <td>...</td>\n",
       "      <td>NaN</td>\n",
       "      <td>NaN</td>\n",
       "      <td>NaN</td>\n",
       "      <td>NaN</td>\n",
       "      <td>NaN</td>\n",
       "      <td>NaN</td>\n",
       "      <td>NaN</td>\n",
       "      <td>NaN</td>\n",
       "      <td>NaN</td>\n",
       "      <td>2.0</td>\n",
       "    </tr>\n",
       "    <tr>\n",
       "      <th>2</th>\n",
       "      <td>36</td>\n",
       "      <td>4</td>\n",
       "      <td>5042020</td>\n",
       "      <td>5</td>\n",
       "      <td>4</td>\n",
       "      <td>2020</td>\n",
       "      <td>1200</td>\n",
       "      <td>2020000003</td>\n",
       "      <td>2020000003</td>\n",
       "      <td>NaN</td>\n",
       "      <td>...</td>\n",
       "      <td>NaN</td>\n",
       "      <td>NaN</td>\n",
       "      <td>NaN</td>\n",
       "      <td>NaN</td>\n",
       "      <td>NaN</td>\n",
       "      <td>NaN</td>\n",
       "      <td>NaN</td>\n",
       "      <td>NaN</td>\n",
       "      <td>NaN</td>\n",
       "      <td>2.0</td>\n",
       "    </tr>\n",
       "    <tr>\n",
       "      <th>3</th>\n",
       "      <td>36</td>\n",
       "      <td>1</td>\n",
       "      <td>1222020</td>\n",
       "      <td>1</td>\n",
       "      <td>22</td>\n",
       "      <td>2020</td>\n",
       "      <td>1200</td>\n",
       "      <td>2020000004</td>\n",
       "      <td>2020000004</td>\n",
       "      <td>NaN</td>\n",
       "      <td>...</td>\n",
       "      <td>NaN</td>\n",
       "      <td>NaN</td>\n",
       "      <td>NaN</td>\n",
       "      <td>NaN</td>\n",
       "      <td>NaN</td>\n",
       "      <td>NaN</td>\n",
       "      <td>NaN</td>\n",
       "      <td>NaN</td>\n",
       "      <td>NaN</td>\n",
       "      <td>2.0</td>\n",
       "    </tr>\n",
       "    <tr>\n",
       "      <th>4</th>\n",
       "      <td>36</td>\n",
       "      <td>3</td>\n",
       "      <td>3102020</td>\n",
       "      <td>3</td>\n",
       "      <td>10</td>\n",
       "      <td>2020</td>\n",
       "      <td>1200</td>\n",
       "      <td>2020000005</td>\n",
       "      <td>2020000005</td>\n",
       "      <td>NaN</td>\n",
       "      <td>...</td>\n",
       "      <td>NaN</td>\n",
       "      <td>NaN</td>\n",
       "      <td>NaN</td>\n",
       "      <td>NaN</td>\n",
       "      <td>NaN</td>\n",
       "      <td>NaN</td>\n",
       "      <td>NaN</td>\n",
       "      <td>NaN</td>\n",
       "      <td>NaN</td>\n",
       "      <td>1.0</td>\n",
       "    </tr>\n",
       "  </tbody>\n",
       "</table>\n",
       "<p>5 rows × 279 columns</p>\n",
       "</div>"
      ],
      "text/plain": [
       "   _STATE  FMONTH     IDATE  IMONTH  IDAY  IYEAR  DISPCODE       SEQNO  \\\n",
       "0      36      11  11172020      11    17   2020      1200  2020000001   \n",
       "1      36       1   1182020       1    18   2020      1200  2020000002   \n",
       "2      36       4   5042020       5     4   2020      1200  2020000003   \n",
       "3      36       1   1222020       1    22   2020      1200  2020000004   \n",
       "4      36       3   3102020       3    10   2020      1200  2020000005   \n",
       "\n",
       "         _PSU  CTELENM1  ...  _RFPSA23  _CLNSCPY  _SGMSCPY  _SGMS10Y  \\\n",
       "0  2020000001       NaN  ...       NaN       NaN       NaN       NaN   \n",
       "1  2020000002       NaN  ...       NaN       NaN       NaN       NaN   \n",
       "2  2020000003       NaN  ...       NaN       NaN       NaN       NaN   \n",
       "3  2020000004       NaN  ...       NaN       NaN       NaN       NaN   \n",
       "4  2020000005       NaN  ...       NaN       NaN       NaN       NaN   \n",
       "\n",
       "   _RFBLDS4  _STOLDNA  _VIRCOLN  _SBONTIM  _CRCREC1  _AIDTST4  \n",
       "0       NaN       NaN       NaN       NaN       NaN       1.0  \n",
       "1       NaN       NaN       NaN       NaN       NaN       2.0  \n",
       "2       NaN       NaN       NaN       NaN       NaN       2.0  \n",
       "3       NaN       NaN       NaN       NaN       NaN       2.0  \n",
       "4       NaN       NaN       NaN       NaN       NaN       1.0  \n",
       "\n",
       "[5 rows x 279 columns]"
      ]
     },
     "execution_count": 2,
     "metadata": {},
     "output_type": "execute_result"
    }
   ],
   "source": [
    "df.head()"
   ]
  },
  {
   "cell_type": "code",
   "execution_count": 3,
   "metadata": {},
   "outputs": [
    {
     "name": "stdout",
     "output_type": "stream",
     "text": [
      "<class 'pandas.core.frame.DataFrame'>\n",
      "RangeIndex: 14769 entries, 0 to 14768\n",
      "Columns: 279 entries, _STATE to _AIDTST4\n",
      "dtypes: float64(234), int64(45)\n",
      "memory usage: 31.4 MB\n"
     ]
    }
   ],
   "source": [
    "df.info()"
   ]
  },
  {
   "cell_type": "code",
   "execution_count": 4,
   "metadata": {},
   "outputs": [
    {
     "data": {
      "text/plain": [
       "(14769, 279)"
      ]
     },
     "execution_count": 4,
     "metadata": {},
     "output_type": "execute_result"
    }
   ],
   "source": [
    "df.shape"
   ]
  },
  {
   "cell_type": "markdown",
   "metadata": {},
   "source": [
    "## Data Preparation\n",
    "\n",
    "    \n",
    "    Given that the question in the PHYSHLTH column is asking about \"how many days during the past 30 days\",\n",
    "    you might assume that the values in this column will all be numbers between 0 and 30, but this not the case \n",
    "    Therefore, we need to prepare the data in both columns of interest to take care of outliers:\n",
    "- Focus on 'PHYSHLTH' and 'RENTHOM1' columns\n",
    "- Converting all instances of 88 to 0\n",
    "- Dropping all records where PHYSHLTH is 77, 99, or blank (NaN)\n",
    "- Dropping records with values of RENTHOM1 other than 1 or 2\n",
    "- visualize to confirm our cleaning works\n",
    "- Run the statistics tests\n"
   ]
  },
  {
   "cell_type": "code",
   "execution_count": 5,
   "metadata": {},
   "outputs": [
    {
     "data": {
      "text/html": [
       "<div>\n",
       "<style scoped>\n",
       "    .dataframe tbody tr th:only-of-type {\n",
       "        vertical-align: middle;\n",
       "    }\n",
       "\n",
       "    .dataframe tbody tr th {\n",
       "        vertical-align: top;\n",
       "    }\n",
       "\n",
       "    .dataframe thead th {\n",
       "        text-align: right;\n",
       "    }\n",
       "</style>\n",
       "<table border=\"1\" class=\"dataframe\">\n",
       "  <thead>\n",
       "    <tr style=\"text-align: right;\">\n",
       "      <th></th>\n",
       "      <th>PHYSHLTH</th>\n",
       "      <th>RENTHOM1</th>\n",
       "    </tr>\n",
       "  </thead>\n",
       "  <tbody>\n",
       "    <tr>\n",
       "      <th>0</th>\n",
       "      <td>88.0</td>\n",
       "      <td>2.0</td>\n",
       "    </tr>\n",
       "    <tr>\n",
       "      <th>1</th>\n",
       "      <td>14.0</td>\n",
       "      <td>1.0</td>\n",
       "    </tr>\n",
       "    <tr>\n",
       "      <th>2</th>\n",
       "      <td>88.0</td>\n",
       "      <td>2.0</td>\n",
       "    </tr>\n",
       "    <tr>\n",
       "      <th>3</th>\n",
       "      <td>5.0</td>\n",
       "      <td>3.0</td>\n",
       "    </tr>\n",
       "    <tr>\n",
       "      <th>4</th>\n",
       "      <td>88.0</td>\n",
       "      <td>2.0</td>\n",
       "    </tr>\n",
       "    <tr>\n",
       "      <th>...</th>\n",
       "      <td>...</td>\n",
       "      <td>...</td>\n",
       "    </tr>\n",
       "    <tr>\n",
       "      <th>14764</th>\n",
       "      <td>88.0</td>\n",
       "      <td>2.0</td>\n",
       "    </tr>\n",
       "    <tr>\n",
       "      <th>14765</th>\n",
       "      <td>88.0</td>\n",
       "      <td>2.0</td>\n",
       "    </tr>\n",
       "    <tr>\n",
       "      <th>14766</th>\n",
       "      <td>2.0</td>\n",
       "      <td>2.0</td>\n",
       "    </tr>\n",
       "    <tr>\n",
       "      <th>14767</th>\n",
       "      <td>88.0</td>\n",
       "      <td>2.0</td>\n",
       "    </tr>\n",
       "    <tr>\n",
       "      <th>14768</th>\n",
       "      <td>88.0</td>\n",
       "      <td>3.0</td>\n",
       "    </tr>\n",
       "  </tbody>\n",
       "</table>\n",
       "<p>14769 rows × 2 columns</p>\n",
       "</div>"
      ],
      "text/plain": [
       "       PHYSHLTH  RENTHOM1\n",
       "0          88.0       2.0\n",
       "1          14.0       1.0\n",
       "2          88.0       2.0\n",
       "3           5.0       3.0\n",
       "4          88.0       2.0\n",
       "...         ...       ...\n",
       "14764      88.0       2.0\n",
       "14765      88.0       2.0\n",
       "14766       2.0       2.0\n",
       "14767      88.0       2.0\n",
       "14768      88.0       3.0\n",
       "\n",
       "[14769 rows x 2 columns]"
      ]
     },
     "execution_count": 5,
     "metadata": {},
     "output_type": "execute_result"
    }
   ],
   "source": [
    "df1 = df[['PHYSHLTH','RENTHOM1']]\n",
    "df1"
   ]
  },
  {
   "cell_type": "code",
   "execution_count": 6,
   "metadata": {},
   "outputs": [
    {
     "data": {
      "text/plain": [
       "Index(['PHYSHLTH', 'RENTHOM1'], dtype='object')"
      ]
     },
     "execution_count": 6,
     "metadata": {},
     "output_type": "execute_result"
    }
   ],
   "source": [
    "df1.columns"
   ]
  },
  {
   "cell_type": "code",
   "execution_count": 7,
   "metadata": {},
   "outputs": [
    {
     "data": {
      "text/plain": [
       "PHYSHLTH  RENTHOM1\n",
       "88.0      1.0         6401\n",
       "          2.0         3614\n",
       "          3.0          394\n",
       "30.0      1.0          389\n",
       "          2.0          336\n",
       "                      ... \n",
       "26.0      3.0            1\n",
       "          2.0            1\n",
       "          1.0            1\n",
       "22.0      2.0            1\n",
       "15.0      7.0            1\n",
       "Length: 114, dtype: int64"
      ]
     },
     "execution_count": 7,
     "metadata": {},
     "output_type": "execute_result"
    }
   ],
   "source": [
    "df1.value_counts()"
   ]
  },
  {
   "cell_type": "code",
   "execution_count": 8,
   "metadata": {},
   "outputs": [
    {
     "data": {
      "text/plain": [
       "count    14769.000000\n",
       "mean        67.801815\n",
       "std         34.082730\n",
       "min          1.000000\n",
       "25%         30.000000\n",
       "50%         88.000000\n",
       "75%         88.000000\n",
       "max         99.000000\n",
       "Name: PHYSHLTH, dtype: float64"
      ]
     },
     "execution_count": 8,
     "metadata": {},
     "output_type": "execute_result"
    }
   ],
   "source": [
    "# Filter the PHYSHTH column and get the Mean and other aggregation before cleaning\n",
    "df1['PHYSHLTH'].describe()"
   ]
  },
  {
   "cell_type": "code",
   "execution_count": 9,
   "metadata": {},
   "outputs": [
    {
     "data": {
      "text/plain": [
       "_STATE         0\n",
       "FMONTH         0\n",
       "IDATE          0\n",
       "IMONTH         0\n",
       "IDAY           0\n",
       "            ... \n",
       "_STOLDNA    8619\n",
       "_VIRCOLN    8721\n",
       "_SBONTIM    7746\n",
       "_CRCREC1    8637\n",
       "_AIDTST4    1655\n",
       "Length: 279, dtype: int64"
      ]
     },
     "execution_count": 9,
     "metadata": {},
     "output_type": "execute_result"
    }
   ],
   "source": [
    "#checking for Nan\n",
    "df.isna().sum()"
   ]
  },
  {
   "cell_type": "code",
   "execution_count": 10,
   "metadata": {},
   "outputs": [
    {
     "data": {
      "text/plain": [
       "(array([ 2441.,   538.,   896.,     0.,     0.,     0.,     0.,   248.,\n",
       "        10565.,    81.]),\n",
       " array([ 1. , 10.8, 20.6, 30.4, 40.2, 50. , 59.8, 69.6, 79.4, 89.2, 99. ]),\n",
       " <BarContainer object of 10 artists>)"
      ]
     },
     "execution_count": 10,
     "metadata": {},
     "output_type": "execute_result"
    },
    {
     "data": {
      "image/png": "[encoded data removed]",
      "text/plain": [
       "<Figure size 720x432 with 1 Axes>"
      ]
     },
     "metadata": {
      "needs_background": "light"
     },
     "output_type": "display_data"
    }
   ],
   "source": [
    "# Visualize our plot space to see  outliers in the original df\n",
    "plt.figure(figsize=[10,6])\n",
    "plt.suptitle(\"Checking Distribution and Outliers for Physical Health\", size=15)\n",
    "\n",
    "# histogram for phshlth \n",
    "plt.hist(df1['PHYSHLTH'])"
   ]
  },
  {
   "cell_type": "markdown",
   "metadata": {},
   "source": [
    "**Data Preparation for the 'PHYSHLTH' columns**"
   ]
  },
  {
   "cell_type": "code",
   "execution_count": 11,
   "metadata": {},
   "outputs": [
    {
     "data": {
      "text/plain": [
       "88.0    10565\n",
       "30.0      768\n",
       "2.0       597\n",
       "1.0       410\n",
       "5.0       367\n",
       "3.0       361\n",
       "77.0      248\n",
       "10.0      231\n",
       "7.0       209\n",
       "15.0      194\n",
       "4.0       163\n",
       "20.0      147\n",
       "14.0      144\n",
       "99.0       81\n",
       "25.0       55\n",
       "6.0        47\n",
       "8.0        45\n",
       "21.0       26\n",
       "28.0       22\n",
       "12.0       22\n",
       "9.0        11\n",
       "29.0        8\n",
       "13.0        7\n",
       "18.0        6\n",
       "17.0        6\n",
       "16.0        6\n",
       "24.0        5\n",
       "27.0        5\n",
       "11.0        4\n",
       "26.0        3\n",
       "23.0        3\n",
       "19.0        2\n",
       "22.0        1\n",
       "Name: PHYSHLTH, dtype: int64"
      ]
     },
     "execution_count": 11,
     "metadata": {},
     "output_type": "execute_result"
    }
   ],
   "source": [
    "# Use value counts to check the survey distribution in the PHYSHLTH column\n",
    "\n",
    "df1['PHYSHLTH'].value_counts()"
   ]
  },
  {
   "cell_type": "code",
   "execution_count": 12,
   "metadata": {},
   "outputs": [
    {
     "data": {
      "text/plain": [
       "0"
      ]
     },
     "execution_count": 12,
     "metadata": {},
     "output_type": "execute_result"
    }
   ],
   "source": [
    "#checking for Nan\n",
    "\n",
    "df1['PHYSHLTH'].isna().sum()"
   ]
  },
  {
   "cell_type": "code",
   "execution_count": 13,
   "metadata": {},
   "outputs": [],
   "source": [
    "# cleaning the column PHYSHLTH\n",
    "\n",
    "df1['PHYSHLTH'] = df1['PHYSHLTH'].replace(88, 0)"
   ]
  },
  {
   "cell_type": "code",
   "execution_count": 14,
   "metadata": {},
   "outputs": [
    {
     "data": {
      "text/plain": [
       "0         0.0\n",
       "1        14.0\n",
       "2         0.0\n",
       "3         5.0\n",
       "4         0.0\n",
       "         ... \n",
       "14764     0.0\n",
       "14765     0.0\n",
       "14766     2.0\n",
       "14767     0.0\n",
       "14768     0.0\n",
       "Name: PHYSHLTH, Length: 14769, dtype: float64"
      ]
     },
     "execution_count": 14,
     "metadata": {},
     "output_type": "execute_result"
    }
   ],
   "source": [
    "#df1 ['PHYSHLTH'] column after cleaning\n",
    "\n",
    "df1['PHYSHLTH']"
   ]
  },
  {
   "cell_type": "code",
   "execution_count": 15,
   "metadata": {},
   "outputs": [
    {
     "data": {
      "text/plain": [
       "(array([ 2441.,   538.,   896.,     0.,     0.,     0.,     0.,   248.,\n",
       "        10565.,    81.]),\n",
       " array([ 1. , 10.8, 20.6, 30.4, 40.2, 50. , 59.8, 69.6, 79.4, 89.2, 99. ]),\n",
       " <BarContainer object of 10 artists>)"
      ]
     },
     "execution_count": 15,
     "metadata": {},
     "output_type": "execute_result"
    },
    {
     "data": {
      "image/png": "[encoded data removed]",
      "text/plain": [
       "<Figure size 720x432 with 1 Axes>"
      ]
     },
     "metadata": {
      "needs_background": "light"
     },
     "output_type": "display_data"
    }
   ],
   "source": [
    "# Visualize our plot space after first cleaning of PHYSHLTH column.\n",
    "plt.figure(figsize=[10,6])\n",
    "plt.suptitle(\"Checking Distribution after cleaning the  Outliers for Physical Health\", size=15)\n",
    "\n",
    "# histogram for physhlth \n",
    "plt.hist(df['PHYSHLTH'])"
   ]
  },
  {
   "cell_type": "code",
   "execution_count": 16,
   "metadata": {},
   "outputs": [],
   "source": [
    "# Filter df for PHYSHLTH response less or equal to 30 days\n",
    "\n",
    "df1 = df1[df1['PHYSHLTH'] <= 30]"
   ]
  },
  {
   "cell_type": "code",
   "execution_count": 17,
   "metadata": {},
   "outputs": [
    {
     "data": {
      "text/plain": [
       "88.0    10565\n",
       "30.0      768\n",
       "2.0       597\n",
       "1.0       410\n",
       "5.0       367\n",
       "3.0       361\n",
       "77.0      248\n",
       "10.0      231\n",
       "7.0       209\n",
       "15.0      194\n",
       "4.0       163\n",
       "20.0      147\n",
       "14.0      144\n",
       "99.0       81\n",
       "25.0       55\n",
       "6.0        47\n",
       "8.0        45\n",
       "21.0       26\n",
       "28.0       22\n",
       "12.0       22\n",
       "9.0        11\n",
       "29.0        8\n",
       "13.0        7\n",
       "18.0        6\n",
       "17.0        6\n",
       "16.0        6\n",
       "24.0        5\n",
       "27.0        5\n",
       "11.0        4\n",
       "26.0        3\n",
       "23.0        3\n",
       "19.0        2\n",
       "22.0        1\n",
       "Name: PHYSHLTH, dtype: int64"
      ]
     },
     "execution_count": 17,
     "metadata": {},
     "output_type": "execute_result"
    }
   ],
   "source": [
    "df['PHYSHLTH'].value_counts()"
   ]
  },
  {
   "cell_type": "code",
   "execution_count": 18,
   "metadata": {},
   "outputs": [
    {
     "data": {
      "text/plain": [
       "(array([11572.,   891.,   301.,   246.,   173.,   206.,   155.,    30.,\n",
       "           63.,   803.]),\n",
       " array([ 0.,  3.,  6.,  9., 12., 15., 18., 21., 24., 27., 30.]),\n",
       " <BarContainer object of 10 artists>)"
      ]
     },
     "execution_count": 18,
     "metadata": {},
     "output_type": "execute_result"
    },
    {
     "data": {
      "image/png": "[encoded data removed]",
      "text/plain": [
       "<Figure size 720x432 with 1 Axes>"
      ]
     },
     "metadata": {
      "needs_background": "light"
     },
     "output_type": "display_data"
    }
   ],
   "source": [
    "# Visualization after all cleaning were done in PHYSHLTH column \n",
    "# initialize our plot space.\n",
    "plt.figure(figsize=[10,6])\n",
    "plt.suptitle(\" Distribution after cleaning the  Outliers for Physical Health\", size=15)\n",
    "\n",
    "#histogram for physhlth \n",
    "plt.hist(df1['PHYSHLTH'])"
   ]
  },
  {
   "cell_type": "code",
   "execution_count": 19,
   "metadata": {},
   "outputs": [
    {
     "data": {
      "text/plain": [
       "count    14440.000000\n",
       "mean         3.083795\n",
       "std          7.592715\n",
       "min          0.000000\n",
       "25%          0.000000\n",
       "50%          0.000000\n",
       "75%          1.000000\n",
       "max         30.000000\n",
       "Name: PHYSHLTH, dtype: float64"
      ]
     },
     "execution_count": 19,
     "metadata": {},
     "output_type": "execute_result"
    }
   ],
   "source": [
    "#the PHYSHTH Mean  and other aggregation after cleaning\n",
    "\n",
    "df1['PHYSHLTH'].describe()"
   ]
  },
  {
   "cell_type": "markdown",
   "metadata": {},
   "source": [
    "**Data Preparation for the 'RENTHOM1' columns**"
   ]
  },
  {
   "cell_type": "code",
   "execution_count": 20,
   "metadata": {},
   "outputs": [
    {
     "data": {
      "text/plain": [
       "0        2.0\n",
       "1        1.0\n",
       "2        2.0\n",
       "3        3.0\n",
       "4        2.0\n",
       "        ... \n",
       "14764    2.0\n",
       "14765    2.0\n",
       "14766    2.0\n",
       "14767    2.0\n",
       "14768    3.0\n",
       "Name: RENTHOM1, Length: 14440, dtype: float64"
      ]
     },
     "execution_count": 20,
     "metadata": {},
     "output_type": "execute_result"
    }
   ],
   "source": [
    "# RENTHOM1 before cleaning \n",
    "df1['RENTHOM1']"
   ]
  },
  {
   "cell_type": "code",
   "execution_count": 21,
   "metadata": {},
   "outputs": [
    {
     "data": {
      "text/plain": [
       "1.0    8453\n",
       "2.0    5206\n",
       "3.0     585\n",
       "9.0     141\n",
       "7.0      55\n",
       "Name: RENTHOM1, dtype: int64"
      ]
     },
     "execution_count": 21,
     "metadata": {},
     "output_type": "execute_result"
    }
   ],
   "source": [
    "# Use value counts to check the survey distribution in the RENTHOM1 column before cleaning\n",
    "\n",
    "df1['RENTHOM1'].value_counts()"
   ]
  },
  {
   "cell_type": "code",
   "execution_count": 22,
   "metadata": {},
   "outputs": [
    {
     "data": {
      "text/plain": [
       "count    14440.000000\n",
       "mean         1.542521\n",
       "std          0.995171\n",
       "min          1.000000\n",
       "25%          1.000000\n",
       "50%          1.000000\n",
       "75%          2.000000\n",
       "max          9.000000\n",
       "Name: RENTHOM1, dtype: float64"
      ]
     },
     "execution_count": 22,
     "metadata": {},
     "output_type": "execute_result"
    }
   ],
   "source": [
    "#the RENTHOM1 Mean the other aggregation before cleaning\n",
    "df1['RENTHOM1'].describe()"
   ]
  },
  {
   "cell_type": "code",
   "execution_count": 23,
   "metadata": {},
   "outputs": [
    {
     "data": {
      "text/plain": [
       "0"
      ]
     },
     "execution_count": 23,
     "metadata": {},
     "output_type": "execute_result"
    }
   ],
   "source": [
    "#checking for Nan\n",
    "df1['RENTHOM1'].isna().sum()"
   ]
  },
  {
   "cell_type": "code",
   "execution_count": 24,
   "metadata": {},
   "outputs": [],
   "source": [
    " # cleaning the colums RENTHOM1\n",
    "#dropping records with values of RENTHOM1 other than 1 or 2. \n",
    "\n",
    "df1 = df1[df1['RENTHOM1'] <= 2]"
   ]
  },
  {
   "cell_type": "code",
   "execution_count": 25,
   "metadata": {},
   "outputs": [
    {
     "data": {
      "text/plain": [
       "1.0    8453\n",
       "2.0    5206\n",
       "Name: RENTHOM1, dtype: int64"
      ]
     },
     "execution_count": 25,
     "metadata": {},
     "output_type": "execute_result"
    }
   ],
   "source": [
    "# Use value counts to check the survey distribution in the RENTHOM1 column after cleaning\n",
    "\n",
    "df1['RENTHOM1'].value_counts()"
   ]
  },
  {
   "cell_type": "code",
   "execution_count": 26,
   "metadata": {},
   "outputs": [
    {
     "data": {
      "text/plain": [
       "count    13659.000000\n",
       "mean         1.381141\n",
       "std          0.485685\n",
       "min          1.000000\n",
       "25%          1.000000\n",
       "50%          1.000000\n",
       "75%          2.000000\n",
       "max          2.000000\n",
       "Name: RENTHOM1, dtype: float64"
      ]
     },
     "execution_count": 26,
     "metadata": {},
     "output_type": "execute_result"
    }
   ],
   "source": [
    "#the RENTHOM1 Mean and the other aggregation  after cleaning\n",
    "df1['RENTHOM1'].describe()"
   ]
  },
  {
   "cell_type": "code",
   "execution_count": 27,
   "metadata": {},
   "outputs": [
    {
     "data": {
      "text/html": [
       "<div>\n",
       "<style scoped>\n",
       "    .dataframe tbody tr th:only-of-type {\n",
       "        vertical-align: middle;\n",
       "    }\n",
       "\n",
       "    .dataframe tbody tr th {\n",
       "        vertical-align: top;\n",
       "    }\n",
       "\n",
       "    .dataframe thead th {\n",
       "        text-align: right;\n",
       "    }\n",
       "</style>\n",
       "<table border=\"1\" class=\"dataframe\">\n",
       "  <thead>\n",
       "    <tr style=\"text-align: right;\">\n",
       "      <th></th>\n",
       "      <th>PHYSHLTH</th>\n",
       "      <th>RENTHOM1</th>\n",
       "    </tr>\n",
       "  </thead>\n",
       "  <tbody>\n",
       "    <tr>\n",
       "      <th>0</th>\n",
       "      <td>0.0</td>\n",
       "      <td>2.0</td>\n",
       "    </tr>\n",
       "    <tr>\n",
       "      <th>1</th>\n",
       "      <td>14.0</td>\n",
       "      <td>1.0</td>\n",
       "    </tr>\n",
       "    <tr>\n",
       "      <th>2</th>\n",
       "      <td>0.0</td>\n",
       "      <td>2.0</td>\n",
       "    </tr>\n",
       "    <tr>\n",
       "      <th>4</th>\n",
       "      <td>0.0</td>\n",
       "      <td>2.0</td>\n",
       "    </tr>\n",
       "    <tr>\n",
       "      <th>5</th>\n",
       "      <td>2.0</td>\n",
       "      <td>2.0</td>\n",
       "    </tr>\n",
       "  </tbody>\n",
       "</table>\n",
       "</div>"
      ],
      "text/plain": [
       "   PHYSHLTH  RENTHOM1\n",
       "0       0.0       2.0\n",
       "1      14.0       1.0\n",
       "2       0.0       2.0\n",
       "4       0.0       2.0\n",
       "5       2.0       2.0"
      ]
     },
     "execution_count": 27,
     "metadata": {},
     "output_type": "execute_result"
    }
   ],
   "source": [
    "#checking df1 after both columns were completly cleaned\n",
    "\n",
    "df1.head()"
   ]
  },
  {
   "cell_type": "markdown",
   "metadata": {},
   "source": [
    "## 2. Calculate Confidence Interval for PHYSHLTH Mean"
   ]
  },
  {
   "cell_type": "markdown",
   "metadata": {},
   "source": [
    "**Code to calculate a 95% confidence interval about the mean of PHYSHLTH**"
   ]
  },
  {
   "cell_type": "code",
   "execution_count": 28,
   "metadata": {},
   "outputs": [],
   "source": [
    "# Define a sample from the NY PHYSHLTH\n",
    "\n",
    "sample = df1['PHYSHLTH']"
   ]
  },
  {
   "cell_type": "code",
   "execution_count": 29,
   "metadata": {},
   "outputs": [
    {
     "name": "stdout",
     "output_type": "stream",
     "text": [
      "3.064646020938575\n",
      "7.581325164851767\n",
      "13659\n",
      "0.06486877124338632\n"
     ]
    }
   ],
   "source": [
    "# Sample mean\n",
    "sample_mean = sample.mean()\n",
    "\n",
    "# Sample Standard Deviation\n",
    "sample_std = sample.std()\n",
    "\n",
    "# Sample Standard Error\n",
    "se = stats.sem(sample)\n",
    "\n",
    "# Sample Size\n",
    "sample_size = len(sample)\n",
    "print(sample_mean)\n",
    "print(sample_std)\n",
    "print(sample_size)\n",
    "print(se)"
   ]
  },
  {
   "cell_type": "code",
   "execution_count": 30,
   "metadata": {},
   "outputs": [
    {
     "data": {
      "text/plain": [
       "(2.9374942974789744, 3.1917977443981758)"
      ]
     },
     "execution_count": 30,
     "metadata": {},
     "output_type": "execute_result"
    }
   ],
   "source": [
    "stats.t.interval(\n",
    "    alpha=0.95,           # Confidence level\n",
    "    df=sample_size -1,    # Degrees of freedom\n",
    "    loc=sample_mean,     # Sample mean\n",
    "    scale=se # Unit scale for t-distribution\n",
    ")"
   ]
  },
  {
   "cell_type": "markdown",
   "metadata": {},
   "source": [
    "**Interpretation**\n",
    "\n",
    "* With a sample size of df1[PHYSHLTH], we are 95% confident that the true mean of the 'PHYSHLTH' will fall within the range of 2.9 and 3.1(about 3.2)"
   ]
  },
  {
   "cell_type": "markdown",
   "metadata": {},
   "source": [
    "## 3. Describe Difference in PHYSHLTH Based on RENTHOM1"
   ]
  },
  {
   "cell_type": "markdown",
   "metadata": {},
   "source": [
    "### How Does `PHYSHLTH` Differ Based on `RENTHOM1`?\n",
    "\n",
    "**We are trying to split the data so we can understand the relationship between having a chronic health and the ability of owning a house.**"
   ]
  },
  {
   "cell_type": "code",
   "execution_count": 31,
   "metadata": {},
   "outputs": [
    {
     "data": {
      "text/plain": [
       "0        Rent\n",
       "1         Own\n",
       "2        Rent\n",
       "4        Rent\n",
       "5        Rent\n",
       "         ... \n",
       "14763    Rent\n",
       "14764    Rent\n",
       "14765    Rent\n",
       "14766    Rent\n",
       "14767    Rent\n",
       "Name: RENTHOM1, Length: 13659, dtype: object"
      ]
     },
     "execution_count": 31,
     "metadata": {},
     "output_type": "execute_result"
    }
   ],
   "source": [
    "# code to separate the records based on the value of RENTHOM1\n",
    "\n",
    "#compare physical health base on renthom1\n",
    "df2 = df1.copy()\n",
    "df2['RENTHOM1'] = df2['RENTHOM1'].map({1: \"Own\", 2: \"Rent\"})\n",
    "df2['RENTHOM1'] "
   ]
  },
  {
   "cell_type": "code",
   "execution_count": 32,
   "metadata": {},
   "outputs": [],
   "source": [
    "df2 = df2[df2['PHYSHLTH'] <= df2['PHYSHLTH'].quantile(.95)]"
   ]
  },
  {
   "cell_type": "code",
   "execution_count": 33,
   "metadata": {},
   "outputs": [],
   "source": [
    "# Filter df for how many days of physical health New Yorkers have unweil between 2020-2021\n",
    "\n",
    "# Select subsets(df for homeowners and df for renting)\n",
    "\n",
    "homeowner = df2[df2['RENTHOM1']=='Own']['PHYSHLTH']\n",
    "\n",
    "renting = df2[df2['RENTHOM1']=='Rent']['PHYSHLTH']"
   ]
  },
  {
   "cell_type": "code",
   "execution_count": 34,
   "metadata": {},
   "outputs": [
    {
     "data": {
      "text/html": [
       "<div>\n",
       "<style scoped>\n",
       "    .dataframe tbody tr th:only-of-type {\n",
       "        vertical-align: middle;\n",
       "    }\n",
       "\n",
       "    .dataframe tbody tr th {\n",
       "        vertical-align: top;\n",
       "    }\n",
       "\n",
       "    .dataframe thead th {\n",
       "        text-align: right;\n",
       "    }\n",
       "</style>\n",
       "<table border=\"1\" class=\"dataframe\">\n",
       "  <thead>\n",
       "    <tr style=\"text-align: right;\">\n",
       "      <th></th>\n",
       "      <th>count</th>\n",
       "      <th>mean</th>\n",
       "      <th>std</th>\n",
       "      <th>min</th>\n",
       "      <th>25%</th>\n",
       "      <th>50%</th>\n",
       "      <th>75%</th>\n",
       "      <th>max</th>\n",
       "    </tr>\n",
       "    <tr>\n",
       "      <th>RENTHOM1</th>\n",
       "      <th></th>\n",
       "      <th></th>\n",
       "      <th></th>\n",
       "      <th></th>\n",
       "      <th></th>\n",
       "      <th></th>\n",
       "      <th></th>\n",
       "      <th></th>\n",
       "    </tr>\n",
       "  </thead>\n",
       "  <tbody>\n",
       "    <tr>\n",
       "      <th>Own</th>\n",
       "      <td>8453.0</td>\n",
       "      <td>2.675855</td>\n",
       "      <td>7.108881</td>\n",
       "      <td>0.0</td>\n",
       "      <td>0.0</td>\n",
       "      <td>0.0</td>\n",
       "      <td>0.0</td>\n",
       "      <td>30.0</td>\n",
       "    </tr>\n",
       "    <tr>\n",
       "      <th>Rent</th>\n",
       "      <td>5206.0</td>\n",
       "      <td>3.695928</td>\n",
       "      <td>8.253077</td>\n",
       "      <td>0.0</td>\n",
       "      <td>0.0</td>\n",
       "      <td>0.0</td>\n",
       "      <td>2.0</td>\n",
       "      <td>30.0</td>\n",
       "    </tr>\n",
       "  </tbody>\n",
       "</table>\n",
       "</div>"
      ],
      "text/plain": [
       "           count      mean       std  min  25%  50%  75%   max\n",
       "RENTHOM1                                                      \n",
       "Own       8453.0  2.675855  7.108881  0.0  0.0  0.0  0.0  30.0\n",
       "Rent      5206.0  3.695928  8.253077  0.0  0.0  0.0  2.0  30.0"
      ]
     },
     "execution_count": 34,
     "metadata": {},
     "output_type": "execute_result"
    }
   ],
   "source": [
    "# we can groupby to find aggregation\n",
    "\n",
    "df2.groupby('RENTHOM1')['PHYSHLTH'].describe()"
   ]
  },
  {
   "cell_type": "markdown",
   "metadata": {},
   "source": [
    "**Code to produce one or more plots that show the value of PHYSHLTH based on the value of RENTHOM1**"
   ]
  },
  {
   "cell_type": "code",
   "execution_count": 35,
   "metadata": {},
   "outputs": [
    {
     "data": {
      "image/png": "[encoded data removed]",
      "text/plain": [
       "<Figure size 720x576 with 1 Axes>"
      ]
     },
     "metadata": {
      "needs_background": "light"
     },
     "output_type": "display_data"
    }
   ],
   "source": [
    "fig, ax = plt.subplots(figsize=(10,8))\n",
    "ax.hist(x=[homeowner, renting], label=['Own','Rent'],alpha=.5)\n",
    "\n",
    "# Customize appearance\n",
    "ax.set_xlabel(\"Number of Days\")\n",
    "ax.set_ylabel(\"Responses\")\n",
    "ax.set_title(\"Distribution of Owning or Renting a House Based on Physical Health\")\n",
    "\n",
    "ax.legend();"
   ]
  },
  {
   "cell_type": "markdown",
   "metadata": {},
   "source": [
    "Distribution of Owning **vs** Renting a House Based on Physical Health"
   ]
  },
  {
   "cell_type": "code",
   "execution_count": 36,
   "metadata": {},
   "outputs": [
    {
     "data": {
      "image/png": "[encoded data removed]",
      "text/plain": [
       "<Figure size 720x576 with 1 Axes>"
      ]
     },
     "metadata": {
      "needs_background": "light"
     },
     "output_type": "display_data"
    }
   ],
   "source": [
    "fig, ax = plt.subplots(figsize=(10,8))\n",
    "\n",
    "ax.hist(x=homeowner, label= 'Own', alpha=.5)\n",
    "ax.hist(x=renting, label= 'Rent', alpha=.5)\n",
    "\n",
    "# Customize appearance\n",
    "ax.set_xlabel(\"Number of Days\")\n",
    "ax.set_ylabel(\"Responses\")\n",
    "ax.set_title(\"Distribution of Owning or Renting a House Based on Physical Health\")\n",
    "\n",
    "ax.axvline(homeowner.mean(), color='b')\n",
    "ax.axvline(renting.mean(), color='g')\n",
    "ax.legend();"
   ]
  },
  {
   "cell_type": "markdown",
   "metadata": {},
   "source": [
    "**Interpretation**\n",
    "    \n",
    " The survey shows that initially when in good health, there were twice as much homeowners than home renters. As their health condition degrades, the number of both owners and renters decreases considerably. As they slowly recover towards the end of the days , we see that their ability to own or rent gradually picked up. This shows how health condition influences the ability to own or rent a home during the pandemic.   \n",
    "    "
   ]
  },
  {
   "cell_type": "markdown",
   "metadata": {},
   "source": [
    "## 4. Perform t-Test on PHYSHLTH Based on RENTHOM1"
   ]
  },
  {
   "cell_type": "markdown",
   "metadata": {},
   "source": [
    "### Is the Difference Statistically Significant?\n",
    "\n",
    "- **Null**: There is no significant difference between the average number of days sick for homeowners and renters.\n",
    "- **Alternative**: There is a significant difference between the average number of days sick for homeowners and renters.\n",
    "- **Type I**: we come to the conclusion that average number of homeowners is different than average number of people who rent, when they are in fact the same (false positive).\n",
    "- **Type II**: we come to the conclusion that average number of homeowner  is the same as the average number of people who rent a home, when they are in fact different (false negative).\n",
    "- **Test Type**: we will run a  two-tailed(two-sample() independent t-test on PHYSHLTH Based to RENTHOM1."
   ]
  },
  {
   "cell_type": "markdown",
   "metadata": {},
   "source": [
    "**Code to calculate the test statistic and p-value for a t-test**"
   ]
  },
  {
   "cell_type": "code",
   "execution_count": 37,
   "metadata": {},
   "outputs": [],
   "source": [
    "# recall df for how many days of physical health New Yorkers have been unweil between 2020-2021\n",
    "\n",
    "homeowner = df2[df2['RENTHOM1']=='Own']['PHYSHLTH']\n",
    "renting = df2[df2['RENTHOM1']=='Rent']['PHYSHLTH']"
   ]
  },
  {
   "cell_type": "code",
   "execution_count": 38,
   "metadata": {},
   "outputs": [
    {
     "name": "stdout",
     "output_type": "stream",
     "text": [
      "Variance of Renter sample:  68.11328600746275\n",
      "Variance of Owner sample:  50.53618574888828\n"
     ]
    }
   ],
   "source": [
    "import statistics\n",
    "\n",
    "homeowner_sample = statistics.variance(homeowner)\n",
    "renting_sample = statistics.variance(renting)\n",
    "\n",
    "print(\"Variance of Renter sample: \", renting_sample)\n",
    "print(\"Variance of Owner sample: \", homeowner_sample)\n"
   ]
  },
  {
   "cell_type": "code",
   "execution_count": 39,
   "metadata": {},
   "outputs": [
    {
     "data": {
      "text/plain": [
       "Ttest_indResult(statistic=-7.388322797834266, pvalue=1.6084644296491685e-13)"
      ]
     },
     "execution_count": 39,
     "metadata": {},
     "output_type": "execute_result"
    }
   ],
   "source": [
    "# Now find the t-test and results\n",
    "results = stats.ttest_ind(homeowner, renting, equal_var=False, alternative='two-sided')\n",
    "results"
   ]
  },
  {
   "cell_type": "code",
   "execution_count": 40,
   "metadata": {},
   "outputs": [
    {
     "name": "stdout",
     "output_type": "stream",
     "text": [
      "P value of t test:  1.6084644296491685e-13\n"
     ]
    }
   ],
   "source": [
    "# finding the p-value and print it \n",
    "p_val = results[1]\n",
    "print('P value of t test: ', p_val)"
   ]
  },
  {
   "cell_type": "markdown",
   "metadata": {},
   "source": [
    "  **Interpretation**\n",
    "    \n",
    "Using an alpha (significance level) of .05, yes we can reject the Null Hypothesis because the p-value of 1.6e-13\n",
    "is lower."
   ]
  },
  {
   "cell_type": "markdown",
   "metadata": {},
   "source": [
    " ## 5. Describe Next Steps"
   ]
  },
  {
   "cell_type": "markdown",
   "metadata": {},
   "source": [
    "\n",
    "The MENTHLH feature from the CDC codebook is an important comnponent I would like to propose to investigate next. \n",
    "With the covid-19 pandemic, people were living in an extended period indoors, which has cause a lot of mental illness. This CDC Survey enable us to measure the degree \n",
    "to which recent housing circumstances has directly contributed to people's mental health due to the deterioration of physical health.\n",
    "    \n",
    "    #ref.[article: Exploring the well-being of renters during covid-19 pandemic-]"
   ]
  },
  {
   "cell_type": "code",
   "execution_count": null,
   "metadata": {},
   "outputs": [],
   "source": []
  }
 ],
 "metadata": {
  "kernelspec": {
   "display_name": "Python 3 (ipykernel)",
   "language": "python",
   "name": "python3"
  },
  "language_info": {
   "codemirror_mode": {
    "name": "ipython",
    "version": 3
   },
   "file_extension": ".py",
   "mimetype": "text/x-python",
   "name": "python",
   "nbconvert_exporter": "python",
   "pygments_lexer": "ipython3",
   "version": "3.9.7"
  }
 },
 "nbformat": 4,
 "nbformat_minor": 4
}
